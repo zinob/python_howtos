{
  "nbformat": 4,
  "nbformat_minor": 0,
  "metadata": {
    "colab": {
      "name": "pprint Everywhere.ipynb",
      "provenance": [],
      "authorship_tag": "ABX9TyPt8tADJfmfe0MoBNDJUPLC",
      "include_colab_link": true
    },
    "kernelspec": {
      "name": "python3",
      "display_name": "Python 3"
    },
    "language_info": {
      "name": "python"
    }
  },
  "cells": [
    {
      "cell_type": "markdown",
      "metadata": {
        "id": "view-in-github",
        "colab_type": "text"
      },
      "source": [
        "<a href=\"https://colab.research.google.com/github/zinob/python_tutorials/blob/main/pprint_Everywhere.ipynb\" target=\"_parent\"><img src=\"https://colab.research.google.com/assets/colab-badge.svg\" alt=\"Open In Colab\"/></a>"
      ]
    },
    {
      "cell_type": "markdown",
      "source": [
        "# Make `pprint` availible everywhere\n",
        "\n",
        "A friend was tired of having to type `from pprint import pprint` every time he needed to do print-line debugging (because the using a debugger was inconvinient or impossible for one reason or another.\n",
        "\n",
        "This is not something I would reccomend, but it is possible using the [`usercustomize.py`](https://docs.python.org/3/library/site.html#:~:text=After%20this%2C%20an%20attempt%20is%20made%20to%20import%20a%20module%20named%20usercustomize%2C) and some [`builtins`](https://docs.python.org/3/library/builtins.html) magic.\n",
        "\n",
        "The file ´usercustomize.py´ (usually located in) the folder `/$HOME/.local/lib/python3.7/site-packages/` is usually loaded JUST before python starts what ever program you asked it to run. This enables us to do things like modify the module-search-path for python.\n",
        "\n",
        "It allso enables us to add things to pythions global list of functions via the `builtins` module\n",
        "\n",
        "By adding this to your `usercustomize` the `pprint` command will allways be availible and will annoy your coleauges to no end when you accidentally check in code containing it.\n",
        "\n",
        "```\n",
        "import builtins \n",
        "import pprint \n",
        "builtins.pprint = pprint.pprint\n",
        "```\n",
        "\n",
        "\n"
      ],
      "metadata": {
        "id": "vIYW_TjRvwZD"
      }
    },
    {
      "cell_type": "markdown",
      "source": [
        "The code bellow will try to automatically figgure out where `usercustomize.py` should be located, then create it and append the code snippet from above. You can allso use the command `python3 -m site --user-site` in a terminal to find the right directory and manualy edit the file.\n",
        "\n",
        "You will have to restart your python-instance or notebook for the changes to have effect"
      ],
      "metadata": {
        "id": "wv5WT7AK2ze4"
      }
    },
    {
      "cell_type": "code",
      "source": [
        "from pathlib import Path\n",
        "import site\n",
        "user_site = Path(site.USER_SITE)\n",
        "\n",
        "try:\n",
        "  user_site.mkdir(parents=True)\n",
        "except FileExistsError:\n",
        "    pass #this is fine\n",
        "\n",
        "user_customize = (user_site / \"usercustomize.py\")\n",
        "\n",
        "try:\n",
        "  is_patched = \"import pprint\" in user_customize.open().read()\n",
        "except FileNotFoundError:\n",
        "  is_patched = False #this Is allso fine\n",
        "\n",
        "\n",
        "if not is_patched:\n",
        "  user_customize.open(\"at\").write(\"\"\"\n",
        "import builtins \n",
        "import pprint \n",
        "builtins.pprint = pprint.pprint \n",
        "\"\"\")\n",
        "  print(f\"patched {user_customize} to make pprint global\")\n",
        "else: \n",
        "    print(\"This allready seems patched, ignoring\")\n"
      ],
      "metadata": {
        "colab": {
          "base_uri": "https://localhost:8080/"
        },
        "id": "ahMYg7d4t1FV",
        "outputId": "d88b69e0-6bf7-464e-e8e5-aa7016b8a2c7"
      },
      "execution_count": 11,
      "outputs": [
        {
          "output_type": "stream",
          "name": "stdout",
          "text": [
            "patched /root/.local/lib/python3.7/site-packages/usercustomize.py to make pprint global\n"
          ]
        }
      ]
    },
    {
      "cell_type": "code",
      "source": [
        ""
      ],
      "metadata": {
        "id": "M5jOvjpKysUw"
      },
      "execution_count": 12,
      "outputs": []
    },
    {
      "cell_type": "code",
      "source": [
        "pprint(\"\")"
      ],
      "metadata": {
        "colab": {
          "base_uri": "https://localhost:8080/"
        },
        "id": "VGbsjsUBuN6y",
        "outputId": "21479f73-f3c3-4d0b-90cc-6ea9ca5f708c"
      },
      "execution_count": 12,
      "outputs": [
        {
          "output_type": "stream",
          "name": "stdout",
          "text": [
            "''\n"
          ]
        }
      ]
    }
  ]
}