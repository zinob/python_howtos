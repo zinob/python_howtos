{
  "nbformat": 4,
  "nbformat_minor": 0,
  "metadata": {
    "colab": {
      "name": "MonkeyPatch __repr__.ipynb",
      "provenance": [],
      "authorship_tag": "ABX9TyNLWoGCRqgHkvjugYdHQtYI",
      "include_colab_link": true
    },
    "kernelspec": {
      "name": "python3",
      "display_name": "Python 3"
    },
    "language_info": {
      "name": "python"
    }
  },
  "cells": [
    {
      "cell_type": "markdown",
      "metadata": {
        "id": "view-in-github",
        "colab_type": "text"
      },
      "source": [
        "<a href=\"https://colab.research.google.com/github/zinob/python_tutorials/blob/main/MonkeyPatch___repr__.ipynb\" target=\"_parent\"><img src=\"https://colab.research.google.com/assets/colab-badge.svg\" alt=\"Open In Colab\"/></a>"
      ]
    },
    {
      "cell_type": "code",
      "execution_count": 1,
      "metadata": {
        "id": "NojBLhQVyTBn"
      },
      "outputs": [],
      "source": [
        "class Foo():\n",
        "  def __init__(s):\n",
        "    s.eget_attribut=\"yapp\"\n",
        "    \n",
        "class Bar():\n",
        "  def __init__(s):\n",
        "    s.eget_attribut=\"fnarp\""
      ]
    },
    {
      "cell_type": "code",
      "source": [
        "f=Foo()\n",
        "din_dict_här = {1:f}"
      ],
      "metadata": {
        "id": "GXtRUbGm8tv8"
      },
      "execution_count": 2,
      "outputs": []
    },
    {
      "cell_type": "markdown",
      "source": [
        "## Allt ovan denna rad antas vara kod vi inte kan ändra\n",
        "\n",
        "---\n",
        "\n"
      ],
      "metadata": {
        "id": "36oBbNAy8wRF"
      }
    },
    {
      "cell_type": "code",
      "source": [
        "from pprint import pprint"
      ],
      "metadata": {
        "id": "j-9_DYhYyWx5"
      },
      "execution_count": 3,
      "outputs": []
    },
    {
      "cell_type": "markdown",
      "source": [
        "denna klass (`Foo`) har inten engen `__repr__` metod och får därför pythons automatiska `<blah.blah at 0xb1ah>´"
      ],
      "metadata": {
        "id": "WXsBYsCRyufU"
      }
    },
    {
      "cell_type": "code",
      "source": [
        "print(din_dict_här)"
      ],
      "metadata": {
        "colab": {
          "base_uri": "https://localhost:8080/"
        },
        "id": "37rl6jlpzDWR",
        "outputId": "4eb8e576-6531-41c4-c89c-f8e3ad04d181"
      },
      "execution_count": 4,
      "outputs": [
        {
          "output_type": "stream",
          "name": "stdout",
          "text": [
            "{1: <__main__.Foo object at 0x7f625557cbd0>}\n"
          ]
        }
      ]
    },
    {
      "cell_type": "markdown",
      "source": [
        "Här skapar vi en egen repr-metod. Den använder det \"magiska\"  `__dict__` attributet som alla objekt har. `__dict__` innehåller, om jag mins saken rätt ett objekts alla egna attribut. Alltså allt som inte är metoder eller som är ärvda attribut. Jag lade till texten `<MONKEY>` för att markera att det är en hemmasnodd `__repr__`."
      ],
      "metadata": {
        "id": "X4Mz3qNs7eKH"
      }
    },
    {
      "cell_type": "code",
      "source": [
        "def monkeyrepr(self):\n",
        "  s=[]\n",
        "  for k,v in self.__dict__.items():\n",
        "    s.append(f\"{k}={repr(v)}\")\n",
        "  class_name = type(self).__name__\n",
        "  return f'{class_name}(<MONKEY> {\", \".join(s)})'"
      ],
      "metadata": {
        "id": "HAmWqleq7ey3"
      },
      "execution_count": 5,
      "outputs": []
    },
    {
      "cell_type": "markdown",
      "source": [
        "För att kunna ändra klassens `__repr__` behöver vi ha klass-objektet. Det gör vi genom att hämta \"något objekt\" ur dict-en och använda `type` för att få klassen."
      ],
      "metadata": {
        "id": "9mx2KAaK7MRE"
      }
    },
    {
      "cell_type": "code",
      "source": [
        "target_class=type(din_dict_här[1])"
      ],
      "metadata": {
        "id": "Jj4giTVQ6nB0"
      },
      "execution_count": 6,
      "outputs": []
    },
    {
      "cell_type": "markdown",
      "source": [
        "Genom att ersätta klassens `__repr__`-metod med vår egen alla objekt \"magiskt\" förmögna att skriva ut sina egna attribut."
      ],
      "metadata": {
        "id": "aVNHMk5nzGWQ"
      }
    },
    {
      "cell_type": "code",
      "source": [
        "target_class.__repr__ = monkeyrepr\n",
        "pprint(din_dict_här)"
      ],
      "metadata": {
        "colab": {
          "base_uri": "https://localhost:8080/"
        },
        "id": "6SnM1fbeyUQw",
        "outputId": "c9d0aa31-da24-4220-bc57-183665fd5e94"
      },
      "execution_count": 7,
      "outputs": [
        {
          "output_type": "stream",
          "name": "stdout",
          "text": [
            "{1: Foo(<MONKEY> eget_attribut='yapp')}\n"
          ]
        }
      ]
    }
  ]
}