{
  "nbformat": 4,
  "nbformat_minor": 0,
  "metadata": {
    "colab": {
      "name": "MonkeyPatch __repr__.ipynb",
      "provenance": [],
      "authorship_tag": "ABX9TyN/bLXJZizcI5cY/HbGA5GO",
      "include_colab_link": true
    },
    "kernelspec": {
      "name": "python3",
      "display_name": "Python 3"
    },
    "language_info": {
      "name": "python"
    }
  },
  "cells": [
    {
      "cell_type": "markdown",
      "metadata": {
        "id": "view-in-github",
        "colab_type": "text"
      },
      "source": [
        "<a href=\"https://colab.research.google.com/github/zinob/python_tutorials/blob/main/MonkeyPatch___repr__.ipynb\" target=\"_parent\"><img src=\"https://colab.research.google.com/assets/colab-badge.svg\" alt=\"Open In Colab\"/></a>"
      ]
    },
    {
      "cell_type": "markdown",
      "source": [
        "# `pprint`ing classes that does not have `__repr__` (<main.blah at 0xb1ah>`)\n",
        "\n",
        "Sometimes you want to use `pprint` or similar to investigate classes that does not have a decent `__repr__` method and thusly just prints  `<blah.blah at 0xb1ah>`. There are a few ways to do this, where the smartest way is probably to update the classes own `__repr__`, if you have access to the source. If that does not work the next best way is probably to write your own function to describe it. But when that, for one reason or another isn't practical you can monkey-patch a generic `__repr__`-function."
      ],
      "metadata": {
        "id": "JTUNkCirnkF7"
      }
    },
    {
      "cell_type": "code",
      "execution_count": 1,
      "metadata": {
        "id": "NojBLhQVyTBn"
      },
      "outputs": [],
      "source": [
        "class Foo():\n",
        "  a_class_attribute=\"I'm invisible\"\n",
        "  def __init__(s,text):\n",
        "    s.some_attribute=text\n",
        "    s.lenght=len(text)\n",
        "  def i_do_nothing(s):\n",
        "    pass"
      ]
    },
    {
      "cell_type": "code",
      "source": [
        "f = Foo(\"hello\")\n",
        "g = Foo(\"world?\")\n",
        "some_dict = {1:f, 2:g} #In this case i was asked about a dict keyed with ints, i isnt common, but that was the question."
      ],
      "metadata": {
        "id": "GXtRUbGm8tv8"
      },
      "execution_count": 2,
      "outputs": []
    },
    {
      "cell_type": "markdown",
      "source": [
        "# Everything above this line is assumed to be in classes that we cant or wont change.\n",
        "\n",
        "---\n",
        "\n"
      ],
      "metadata": {
        "id": "36oBbNAy8wRF"
      }
    },
    {
      "cell_type": "code",
      "source": [
        "from pprint import pprint"
      ],
      "metadata": {
        "id": "j-9_DYhYyWx5"
      },
      "execution_count": 3,
      "outputs": []
    },
    {
      "cell_type": "markdown",
      "source": [
        "The class `Foo` doesn't have a `__repr__` and thus it is a bit dificult to understand what is really \"in it\""
      ],
      "metadata": {
        "id": "WXsBYsCRyufU"
      }
    },
    {
      "cell_type": "code",
      "source": [
        "pprint(some_dict)"
      ],
      "metadata": {
        "colab": {
          "base_uri": "https://localhost:8080/"
        },
        "id": "37rl6jlpzDWR",
        "outputId": "a2d2343d-4264-4ba7-942d-0bba30d1ac63"
      },
      "execution_count": 4,
      "outputs": [
        {
          "output_type": "stream",
          "name": "stdout",
          "text": [
            "{1: <__main__.Foo object at 0x7f1a9f801150>,\n",
            " 2: <__main__.Foo object at 0x7f1a9f801110>}\n"
          ]
        }
      ]
    },
    {
      "cell_type": "markdown",
      "source": [
        "Lets try and create a simple method that works as `__repr__` for \"many\" objects. \n",
        "\n",
        "Sure we could try and be smart, use `inspect.signature` to try and figgure out a propper `__repr__` but at the end of the day it would be a heuristict that *would* fail every now and then, so lets try and be obvious about what we are doing.\n",
        "The [`object.__dict__`](https://docs.python.org/3/library/stdtypes.html#object.__dict__) attribute contains all writable attributes on an object, that usually translates to all \"object variables\" that are not inherrited. Lets just create a faux-signature for the class using that, and adding the text `<MONKEY>` to try and make it really obvious that it is not 'the answer'.\n",
        "\n",
        "This function can be written as a one-liner but I have chosen to make it slightly more verbose for legibility."
      ],
      "metadata": {
        "id": "X4Mz3qNs7eKH"
      }
    },
    {
      "cell_type": "code",
      "source": [
        "def monkeyrepr(self):\n",
        "  s=[]\n",
        "  for k,v in self.__dict__.items():\n",
        "    s.append(f\"{k}={repr(v)}\")\n",
        "  class_name = type(self).__name__\n",
        "  return f'{class_name}(<MONKEY> {\", \".join(s)})'"
      ],
      "metadata": {
        "id": "HAmWqleq7ey3"
      },
      "execution_count": 5,
      "outputs": []
    },
    {
      "cell_type": "markdown",
      "source": [
        "If we want to override `__repr__` for a class we need to get the class-object. The easiest way is often (but not allways) to use the `type()` function. Lets get an object from the dict and get it's type."
      ],
      "metadata": {
        "id": "9mx2KAaK7MRE"
      }
    },
    {
      "cell_type": "code",
      "source": [
        "target_class=type(some_dict[1])"
      ],
      "metadata": {
        "id": "Jj4giTVQ6nB0"
      },
      "execution_count": 6,
      "outputs": []
    },
    {
      "cell_type": "markdown",
      "source": [
        "By over writing the classes `__repr__`-metod with our own, all objects are sudenly able to print a more verbose representation of them selves. But please note one of the caviats with this. The `length` attribute is *not* actually part of the constructors signature, thus if you'd just try to use this to instantiate a new object it would fail."
      ],
      "metadata": {
        "id": "aVNHMk5nzGWQ"
      }
    },
    {
      "cell_type": "code",
      "source": [
        "target_class.__repr__ = monkeyrepr\n",
        "pprint(some_dict)"
      ],
      "metadata": {
        "colab": {
          "base_uri": "https://localhost:8080/"
        },
        "id": "6SnM1fbeyUQw",
        "outputId": "31873271-93af-4a3b-b305-a08e62fa2c63"
      },
      "execution_count": 7,
      "outputs": [
        {
          "output_type": "stream",
          "name": "stdout",
          "text": [
            "{1: Foo(<MONKEY> some_attribute='hello', lenght=5),\n",
            " 2: Foo(<MONKEY> some_attribute='world?', lenght=6)}\n"
          ]
        }
      ]
    },
    {
      "cell_type": "markdown",
      "source": [
        "# TL;DR here is the compact version"
      ],
      "metadata": {
        "id": "DFPMdPPb54Jb"
      }
    },
    {
      "cell_type": "code",
      "source": [
        "print(f)\n",
        "type(f).__repr__ = lambda s: f'{type(s).__name__}(<MONKEY> {\", \".join(f\"{k}={repr(v)}\" for k,v in s.__dict__.items())})'\n",
        "print(f)"
      ],
      "metadata": {
        "id": "6mf5-Yo753mF",
        "outputId": "159a077d-f6dc-476b-9b89-a74302e0d75b",
        "colab": {
          "base_uri": "https://localhost:8080/"
        }
      },
      "execution_count": 8,
      "outputs": [
        {
          "output_type": "stream",
          "name": "stdout",
          "text": [
            "Foo(<MONKEY> some_attribute='hello', lenght=5)\n",
            "Foo(<MONKEY> some_attribute='hello', lenght=5)\n"
          ]
        }
      ]
    }
  ]
}